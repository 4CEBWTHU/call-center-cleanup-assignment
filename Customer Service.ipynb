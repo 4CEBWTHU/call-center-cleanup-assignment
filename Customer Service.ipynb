{
 "cells": [
  {
   "cell_type": "markdown",
   "id": "2aabd017",
   "metadata": {},
   "source": [
    "# Customer Service\n",
    "\n",
    "For this assignment, we will be working with call center data. You can start working on the assignment after the lesson on Exploratory Data Analysis. Make sure to read the whole assignment before starting anything!\n",
    "\n",
    "## Business Issue and Understanding\n",
    "\n",
    "You are working for a company that has two call centers: the North Call Center and the South Call Center. The company is looking to possibly hire five additional reps to enhance customer experience. Your task is to explore how efficient the current reps are in each branch to determine which branch would benefit from additional assistance.\n",
    "\n",
    "### Notes about the Data Set\n",
    "\n",
    "If you haven't worked in a call center before, these notes might help you throughout your analysis.\n",
    "\n",
    "* The call purpose is tagged for each call.\n",
    "* The time of the call is tagged in 1 hour blocks starting at 9:00 AM and ending at 5:00 PM.\n",
    "* Calls are tagged as incoming or outgoing.\n",
    "* Reps are assigned to queues. When the reps are working, they take calls in the order of their queue.\n",
    "* A call that is dropped due to technical error or missed by the center because they have reached maximum capacity is a lost call.\n",
    "* An abandoned call is when the customer hangs up because they have been waiting for too long.\n",
    "* Busy Minutes: the amount of time after a call comes in or needs to go out where the assigned rep is not available because they are busy with other customers.\n",
    "* Not Ready Minutes: the amount of time after a call comes in or needs to go out where the assigned rep is not available because they are not ready (for example, getting water).\n",
    "* Incoming Wait Time - amount of time after assigned rep is available to take the call customer waits for representative to pick up a call. This is tracked in seconds.\n",
    "* During Call Wait Time - amount of time during call that customer has to wait for representative\n",
    "\n",
    "## Getting Started\n",
    "\n",
    "You have two CSVs at your disposal, `NorthCallCenter.csv` and `SouthCallCenter.csv`. Import the appropriate libraries and create two dataframes, one called `north_df` and one called `south_df`."
   ]
  },
  {
   "cell_type": "code",
   "execution_count": 1,
   "id": "bf45322c",
   "metadata": {},
   "outputs": [],
   "source": [
    "# Import the appropriate libraries\n",
    "\n",
    "\n",
    "# Create two new dataframes"
   ]
  },
  {
   "cell_type": "markdown",
   "id": "c0b56bf0",
   "metadata": {},
   "source": [
    "## Exploratory Data Analysis\n",
    "\n",
    "Time to do some EDA! In the process of learning more about the two datasets, make sure you answer the following questions:\n",
    "\n",
    "1. How many reps are in each branch?\n",
    "2. What is the average busy minutes, not ready minutes, incoming wait time, and during call wait time for each branch?\n",
    "3. What is the number of calls taken for each time block?"
   ]
  },
  {
   "cell_type": "code",
   "execution_count": null,
   "id": "d4032023",
   "metadata": {},
   "outputs": [],
   "source": [
    "# Put your EDA code here"
   ]
  },
  {
   "cell_type": "markdown",
   "id": "84ad584d",
   "metadata": {},
   "source": [
    "### EDA Results\n",
    "\n",
    "Make note of your results here!\n",
    "\n",
    "1. How many reps are in each branch?\n",
    "2. What is the average busy minutes, not ready minutes, incoming wait time, and during call wait time for each branch?\n",
    "3. What is the number of calls taken for each time block?"
   ]
  },
  {
   "cell_type": "markdown",
   "id": "65335b48",
   "metadata": {},
   "source": [
    "## Cleaning Data\n",
    "\n",
    "Now you need to clean up the datasets. Some things to keep in mind:\n",
    "\n",
    "1. There are some duplicates. Did you drop them and why?\n",
    "2. Incoming wait time is null in many places. Do all of those places correspond to outgoing calls?\n",
    "3. In the north data set, there are two separate \"YES\" values for a sale. Why and how did you rectify the issue?\n",
    "4. Some reps are missing a queue. Is this by design or do you need to fill in the appropriate queue?"
   ]
  },
  {
   "cell_type": "code",
   "execution_count": null,
   "id": "69fd311b",
   "metadata": {},
   "outputs": [],
   "source": [
    "# Clean your data here"
   ]
  },
  {
   "cell_type": "markdown",
   "id": "567cd1d2",
   "metadata": {},
   "source": [
    "### Cleaning Data Results\n",
    "\n",
    "Make note of your results!\n",
    "\n",
    "1. There are some duplicates. Did you drop them and why?\n",
    "2. Incoming wait time is null in many places. Do all of those places correspond to outgoing calls?\n",
    "3. In the north data set, there are two separate \"YES\" values for a sale. Why and how did you rectify the issue?\n",
    "4. Some reps are missing a queue. Is this by design or did you need to fill in the appropriate queue?"
   ]
  },
  {
   "cell_type": "markdown",
   "id": "d0237334",
   "metadata": {},
   "source": [
    "## Data Manipulation\n",
    "\n",
    "Merge the two datasets together to compare South vs. North vs. company-wide trends.\n",
    "\n",
    "1. Group by Rep ID and sum the resulting structure. Sort by calls to determine which rep in each branch has the highest number of calls.\n",
    "2. What is the average call abandoment rate for each branch?\n",
    "3. What is the percentage answered within 2 seconds?\n",
    "4. What is the average speed of answer?"
   ]
  },
  {
   "cell_type": "code",
   "execution_count": null,
   "id": "93e10dcc",
   "metadata": {},
   "outputs": [],
   "source": [
    "# Manipulate data here"
   ]
  },
  {
   "cell_type": "markdown",
   "id": "ce6168cc",
   "metadata": {},
   "source": [
    "### Data Manipulation Results\n",
    "\n",
    "1. Group by Rep ID and sum the resulting structure. Sort by calls to determine which rep in each branch has the highest number of calls.\n",
    "2. What is the average call abandoment rate for each branch?\n",
    "3. What is the percentage answered within 2 seconds?\n",
    "4. What is the average speed of answer?"
   ]
  },
  {
   "cell_type": "markdown",
   "id": "7e785ac7",
   "metadata": {},
   "source": [
    "## Visualization\n",
    "\n",
    "1. What is the abandonment rate per queue?\n",
    "2. What is the service level and average speed of answer per each rep?\n",
    "3. For each type of call purpose, how many calls are outgoing vs. incoming?"
   ]
  },
  {
   "cell_type": "code",
   "execution_count": null,
   "id": "80c3d777",
   "metadata": {},
   "outputs": [],
   "source": []
  },
  {
   "cell_type": "markdown",
   "id": "fc7159b9",
   "metadata": {},
   "source": [
    "### Visualization Results\n",
    "\n",
    "For each chart you created, explain why you chose the chart style you chose."
   ]
  },
  {
   "cell_type": "markdown",
   "id": "d5ba25cf",
   "metadata": {},
   "source": [
    "## Submit Your Work\n",
    "\n"
   ]
  },
  {
   "cell_type": "markdown",
   "id": "c825c778",
   "metadata": {},
   "source": [
    "## Bonus Missions\n",
    "\n",
    "1. For each type of call purpose, what are the time blocks?"
   ]
  },
  {
   "cell_type": "code",
   "execution_count": null,
   "id": "bf620e0a",
   "metadata": {},
   "outputs": [],
   "source": []
  }
 ],
 "metadata": {
  "kernelspec": {
   "display_name": "Python 3",
   "language": "python",
   "name": "python3"
  },
  "language_info": {
   "codemirror_mode": {
    "name": "ipython",
    "version": 3
   },
   "file_extension": ".py",
   "mimetype": "text/x-python",
   "name": "python",
   "nbconvert_exporter": "python",
   "pygments_lexer": "ipython3",
   "version": "3.8.8"
  }
 },
 "nbformat": 4,
 "nbformat_minor": 5
}
