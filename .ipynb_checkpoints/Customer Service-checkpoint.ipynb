{
 "cells": [
  {
   "cell_type": "markdown",
   "id": "1d7b031e",
   "metadata": {},
   "source": [
    "# Customer Service\n",
    "\n",
    "We will be working on some great things!\n",
    "\n",
    "## Business Issue and Understanding\n",
    "\n",
    "\n",
    "## Getting Started\n",
    "\n",
    "You have two CSVs at your disposal, `NorthCallCenter.csv` and `SouthCallCenter.csv`. Import the appropriate libraries and create two dataframes, one called `north_df` and one called `south_df`."
   ]
  },
  {
   "cell_type": "code",
   "execution_count": 1,
   "id": "0098fcca",
   "metadata": {},
   "outputs": [],
   "source": [
    "# Import the appropriate libraries\n",
    "\n",
    "\n",
    "# Create two new dataframes"
   ]
  },
  {
   "cell_type": "markdown",
   "id": "c6a6243d",
   "metadata": {},
   "source": [
    "## Notes about the Data Set\n",
    "\n",
    "If you haven't worked in a call center before, these notes might help you distinguish between the different call types.\n",
    "\n",
    "Busy Minutes: the amount of time after a call comes in or needs to go out where a rep is not available because reps being busy with other customers.\n",
    "Not Ready Minutes: the amount of time after a call comes in or needs to go out where a rep is not available because they are not ready (for example, getting water, going to the restroom, eating lunch, etc.).\n",
    "\n",
    "## Exploratory Data Analysis\n",
    "\n",
    "Time to do some EDA! In the process of learning more about the two datasets, make sure you answer the following questions:\n",
    "\n",
    "1. How many reps are in each branch?\n",
    "2. What is the average busy minutes, not ready minutes, incoming wait time, and during call wait time for each branch?\n",
    "3. What is the number of calls taken for each time block?"
   ]
  },
  {
   "cell_type": "code",
   "execution_count": null,
   "id": "d3faa002",
   "metadata": {},
   "outputs": [],
   "source": []
  },
  {
   "cell_type": "markdown",
   "id": "be97491a",
   "metadata": {},
   "source": [
    "### EDA Results\n",
    "\n",
    "Make note of your results here!\n",
    "\n",
    "1. How many reps are in each branch?\n",
    "2. What is the average busy minutes, not ready minutes, incoming wait time, and during call wait time for each branch?\n",
    "3. What is the number of calls taken for each time block?"
   ]
  },
  {
   "cell_type": "markdown",
   "id": "c9e7fa19",
   "metadata": {},
   "source": [
    "## Cleaning Data\n",
    "\n",
    "Now you need to clean up the datasets. Some things to keep in mind:\n",
    "\n",
    "1. There are some duplicates. Did you drop them and why?\n",
    "2. Incoming wait time is null in many places. Do all of those places correspond to outgoing calls?\n",
    "3. In the north data set, there are two separate \"YES\" values for a sale. Why and how did you rectify the issue?\n",
    "4. Some reps are missing a queue. Is this by design or do you need to fill in the appropriate queue?"
   ]
  },
  {
   "cell_type": "code",
   "execution_count": null,
   "id": "37cc004c",
   "metadata": {},
   "outputs": [],
   "source": []
  },
  {
   "cell_type": "markdown",
   "id": "1dc5b79a",
   "metadata": {},
   "source": [
    "### Cleaning Data Results\n",
    "\n",
    "Make note of your results!\n",
    "\n",
    "1. There are some duplicates. Did you drop them and why?\n",
    "2. Incoming wait time is null in many places. Do all of those places correspond to outgoing calls?\n",
    "3. In the north data set, there are two separate \"YES\" values for a sale. Why and how did you rectify the issue?\n",
    "4. Some reps are missing a queue. Is this by design or did you need to fill in the appropriate queue?"
   ]
  },
  {
   "cell_type": "markdown",
   "id": "6647aa9b",
   "metadata": {},
   "source": [
    "## Data Manipulation\n",
    "\n",
    "Merge the two datasets together to compare South vs. North vs. company-wide trends.\n",
    "\n",
    "1. Group by Rep ID and sum the resulting structure. Sort by calls to determine which rep in each branch has the highest number of calls.\n",
    "2. What is the average call abandoment rate for each branch?\n",
    "3. What is the percentage answered within 2 seconds?\n",
    "4. What is the average speed of answer?"
   ]
  },
  {
   "cell_type": "code",
   "execution_count": null,
   "id": "abd0195f",
   "metadata": {},
   "outputs": [],
   "source": []
  },
  {
   "cell_type": "markdown",
   "id": "8bbd8036",
   "metadata": {},
   "source": [
    "### Data Manipulation Results\n",
    "\n",
    "1. Group by Rep ID and sum the resulting structure. Sort by calls to determine which rep in each branch has the highest number of calls.\n",
    "2. What is the average call abandoment rate for each branch?\n",
    "3. What is the percentage answered within 2 seconds?\n",
    "4. What is the average speed of answer?"
   ]
  },
  {
   "cell_type": "markdown",
   "id": "890d892c",
   "metadata": {},
   "source": [
    "## Visualization\n",
    "\n",
    "1. What is the abandonment rate per queue?\n",
    "2. What is the service level and average speed of answer per each rep?\n",
    "3. For each type of call purpose, how many calls are outgoing vs. incoming?"
   ]
  },
  {
   "cell_type": "code",
   "execution_count": null,
   "id": "62e2b205",
   "metadata": {},
   "outputs": [],
   "source": []
  },
  {
   "cell_type": "markdown",
   "id": "8ff43ecd",
   "metadata": {},
   "source": [
    "### Visualization Results\n",
    "\n",
    "For each chart you created, explain why you chose the chart style you chose."
   ]
  },
  {
   "cell_type": "markdown",
   "id": "b38d258d",
   "metadata": {},
   "source": [
    "## Submit Your Work\n",
    "\n"
   ]
  },
  {
   "cell_type": "markdown",
   "id": "004b2795",
   "metadata": {},
   "source": [
    "## Bonus Missions\n",
    "\n",
    "1. For each type of call purpose, what are the time blocks?"
   ]
  },
  {
   "cell_type": "code",
   "execution_count": null,
   "id": "39884174",
   "metadata": {},
   "outputs": [],
   "source": []
  }
 ],
 "metadata": {
  "kernelspec": {
   "display_name": "Python 3",
   "language": "python",
   "name": "python3"
  },
  "language_info": {
   "codemirror_mode": {
    "name": "ipython",
    "version": 3
   },
   "file_extension": ".py",
   "mimetype": "text/x-python",
   "name": "python",
   "nbconvert_exporter": "python",
   "pygments_lexer": "ipython3",
   "version": "3.8.8"
  }
 },
 "nbformat": 4,
 "nbformat_minor": 5
}
